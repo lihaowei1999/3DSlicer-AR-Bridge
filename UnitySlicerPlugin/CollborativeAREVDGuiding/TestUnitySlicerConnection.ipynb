{
 "cells": [
  {
   "cell_type": "markdown",
   "id": "ca31655c-9efa-4b95-b716-f2c839e8aa45",
   "metadata": {},
   "source": [
    "## Importing"
   ]
  },
  {
   "cell_type": "code",
   "execution_count": null,
   "id": "d4922d29-4372-4b78-88b8-b515d096acea",
   "metadata": {
    "tags": []
   },
   "outputs": [],
   "source": [
    "import time\n",
    "\n",
    "import matplotlib.pyplot as plt\n",
    "import numpy as np\n",
    "\n",
    "from LibSlicerUnityConnection.UnityConnMsgEncoderInterface import *\n",
    "from LibSlicerUnityConnection.CoreServer import *\n",
    "from LibSlicerUnityConnection.VertexMeshRender import VertexMeshRender\n",
    "from LibSlicerUnityConnection.WebVertexInfoServiceZMQ import WebVertexInfoServiceZMQ\n",
    "import slicer\n",
    "import vtk.util.numpy_support as ns\n",
    "import copy"
   ]
  },
  {
   "cell_type": "code",
   "execution_count": null,
   "id": "51533b13-27ea-41c9-83c0-1b1e8cf52ef8",
   "metadata": {
    "tags": []
   },
   "outputs": [],
   "source": [
    "connServices = SlicerUnityConnServiceNode()\n",
    "localDataNode = SlicerUnityConnLocalDataNode()"
   ]
  },
  {
   "cell_type": "markdown",
   "id": "36598e01",
   "metadata": {},
   "source": [
    "## Function"
   ]
  },
  {
   "cell_type": "code",
   "execution_count": null,
   "id": "591ae9eb",
   "metadata": {
    "collapsed": false,
    "jupyter": {
     "outputs_hidden": false
    }
   },
   "outputs": [],
   "source": [
    "mainUnityController = SlicerUnityMainControllerZMQ(\"localhost\",32000)"
   ]
  },
  {
   "cell_type": "markdown",
   "id": "734ca02f",
   "metadata": {},
   "source": [
    "### Mesh"
   ]
  },
  {
   "cell_type": "code",
   "execution_count": null,
   "id": "0f9619f3",
   "metadata": {
    "collapsed": false,
    "jupyter": {
     "outputs_hidden": false
    }
   },
   "outputs": [],
   "source": [
    "import open3d as o3d\n",
    "inputModelNode = slicer.util.getNode('node')\n",
    "polydata = inputModelNode.GetPolyData()\n",
    "points = polydata.GetPoints()\n",
    "numPoints = points.GetNumberOfPoints()\n",
    "colors = inputModelNode.GetDisplayNode().GetOutputPolyData().GetPointData().GetScalars()\n",
    "if colors is None:\n",
    "    ambient_color = inputModelNode.GetDisplayNode().GetColor()\n",
    "    ambient_color_np = np.array(ambient_color)\n",
    "    color_array = (ambient_color_np.reshape([1,3]).repeat(numPoints,axis=0)*255).astype(\"uint8\")\n",
    "else:\n",
    "    color_array = ns.vtk_to_numpy(colors)\n",
    "\n",
    "faces = polydata.GetPolys()\n",
    "vertex_array = ns.vtk_to_numpy(points.GetData()).astype(\"float32\")\n",
    "face_array = ns.vtk_to_numpy(faces.GetData()).astype(\"int32\")\n",
    "face_array = face_array.reshape(-1, face_array[0] + 1)[::, 1:]\n",
    "\n",
    "color_array = color_array.astype(\"float32\") / 255\n",
    "color_rgba = np.zeros([numPoints,4],dtype='float32')\n",
    "color_rgba[:,0:3] = color_array[:,:]\n",
    "color_rgba[:,3] = 1.0\n",
    "\n",
    "modelMesh = o3d.geometry.TriangleMesh()\n",
    "modelMesh.vertices = o3d.utility.Vector3dVector(vertex_array)\n",
    "modelMesh.triangles = o3d.utility.Vector3iVector(face_array)\n",
    "modelMesh.compute_vertex_normals()\n",
    "normal_array = np.asarray(modelMesh.vertex_normals).astype(\"float32\")\n",
    "\n",
    "vertexMeshRender = VertexMeshRender(\"newNode\")\n",
    "vertexMeshRender.Initiate(vertex_array, face_array, color_array)"
   ]
  },
  {
   "cell_type": "code",
   "execution_count": null,
   "id": "8d2000ae",
   "metadata": {
    "collapsed": false,
    "jupyter": {
     "outputs_hidden": false
    }
   },
   "outputs": [],
   "source": [
    "# create model\n",
    "msg_CREATEMODEL = {\n",
    "    \"vertexs\" : vertex_array,\n",
    "    \"faces\" : face_array,\n",
    "    \"colors\" : color_rgba,\n",
    "    \"normals\" : normal_array,\n",
    "    \"transform\" : np.diag([1,1,1,1]).astype(\"float32\"),\n",
    "    \"scale\" : np.array([1,1,1],dtype=\"float32\"),\n",
    "    \"name\" : \"My_Model3\",\n",
    "    \"attachTool\" : -1\n",
    "}\n",
    "\n",
    "msgbyte_CREATEMODEL = SlicerUnityCommandEncoderFactory().getEncoder(SlicerUnityCommandType.CREATE_MODEL)(msg_CREATEMODEL).getEncodedData()\n",
    "\n",
    "connServices.mainUnityController.RequireChange(SlicerUnityCommandType.CREATE_MODEL,msgbyte_CREATEMODEL)"
   ]
  },
  {
   "cell_type": "code",
   "execution_count": null,
   "id": "01a6d174",
   "metadata": {
    "collapsed": false,
    "jupyter": {
     "outputs_hidden": false
    }
   },
   "outputs": [],
   "source": [
    "# change model pose\n",
    "trans = np.diag([1.,1.,1.,1.])\n",
    "trans[0:3,3] = np.array([0,0,0])[:]\n",
    "scale = np.array([1,1,1],dtype=\"float32\")\n",
    "\n",
    "msg_CHANGEMODELTRANS = {\n",
    "    \"name\" : \"My_Model3\",\n",
    "    \"transform\" : trans,\n",
    "    \"scale\" : scale\n",
    "}\n",
    "\n",
    "msgbyte_CHANGEMODELTRANS = SlicerUnityCommandEncoderFactory().getEncoder(SlicerUnityCommandType.CHANGE_MODEL_TRANSFROM)(msg_CHANGEMODELTRANS).getEncodedData()\n",
    "\n",
    "connServices.mainUnityController.RequireChange(SlicerUnityCommandType.CHANGE_MODEL_TRANSFROM,msgbyte_CHANGEMODELTRANS)"
   ]
  },
  {
   "cell_type": "code",
   "execution_count": null,
   "id": "1e95e773",
   "metadata": {
    "collapsed": false,
    "jupyter": {
     "outputs_hidden": false
    }
   },
   "outputs": [],
   "source": [
    "# delete model\n",
    "msg_DELETEMODEL = {\n",
    "    \"name\" : \"My_Model3\"\n",
    "}\n",
    "\n",
    "msgbyte_DELETEMODEL = SlicerUnityCommandEncoderFactory().getEncoder(SlicerUnityCommandType.DELETE_MODEL)(msg_DELETEMODEL).getEncodedData()\n",
    "\n",
    "connServices.mainUnityController.RequireChange(SlicerUnityCommandType.DELETE_MODEL,msgbyte_DELETEMODEL)"
   ]
  },
  {
   "cell_type": "code",
   "execution_count": null,
   "id": "c2af7668",
   "metadata": {
    "collapsed": false,
    "jupyter": {
     "outputs_hidden": false
    }
   },
   "outputs": [],
   "source": [
    "# change model visibility\n",
    "msg_CHANGE_MODEL_VISIBILITY = {\n",
    "    \"name\" : \"My_Model3\",\n",
    "    \"stat\" : True\n",
    "}\n",
    "\n",
    "msgbyte_CHANGE_MODEL_VISIBILITY = SlicerUnityCommandEncoderFactory().getEncoder(SlicerUnityCommandType.CHANGE_MODEL_VISIBILITY)(msg_CHANGE_MODEL_VISIBILITY).getEncodedData()\n",
    "\n",
    "connServices.mainUnityController.RequireChange(SlicerUnityCommandType.CHANGE_MODEL_VISIBILITY,msgbyte_CHANGE_MODEL_VISIBILITY)"
   ]
  },
  {
   "cell_type": "code",
   "execution_count": null,
   "id": "c01a0ce1",
   "metadata": {
    "collapsed": false,
    "jupyter": {
     "outputs_hidden": false
    }
   },
   "outputs": [],
   "source": [
    "# change model paintable\n",
    "msg_CHANGE_MODEL_PAINTABLE_STAT = {\n",
    "    \"name\" : \"My_Model3\",\n",
    "    \"stat\" : False\n",
    "}\n",
    "\n",
    "msgbyte_CHANGE_MODEL_PAINTABLE_STAT = SlicerUnityCommandEncoderFactory().getEncoder(SlicerUnityCommandType.CHANGE_MODEL_PAINTABLE_STAT)(msg_CHANGE_MODEL_PAINTABLE_STAT).getEncodedData()\n",
    "\n",
    "connServices.mainUnityController.RequireChange(SlicerUnityCommandType.CHANGE_MODEL_PAINTABLE_STAT,msgbyte_CHANGE_MODEL_PAINTABLE_STAT)"
   ]
  },
  {
   "cell_type": "code",
   "execution_count": null,
   "id": "a10cec4a",
   "metadata": {
    "collapsed": false,
    "jupyter": {
     "outputs_hidden": false
    }
   },
   "outputs": [],
   "source": [
    "syncer = WebVertexInfoServiceZMQ(32130,b\"headSurfaceVertexColor\",20,\"localhost\")\n",
    "\n",
    "def OnChangeColorsForMesh(colors):\n",
    "    vertexMeshRender.ChangeVertexColor(colors)\n",
    "    DoForceRender()\n",
    "\n",
    "syncer.RegisCallBack(\"changeVetexColorFace\",OnChangeColorsForMesh)"
   ]
  },
  {
   "cell_type": "code",
   "execution_count": null,
   "id": "dc431997",
   "metadata": {
    "collapsed": false,
    "jupyter": {
     "outputs_hidden": false
    }
   },
   "outputs": [],
   "source": [
    "# change model vertex publish stat\n",
    "msg_CHANGE_PAINTABLE_MODEL_STREAM_STAT = {\n",
    "    \"name\" : \"My_Model3\",\n",
    "    \"stat\" : False,\n",
    "    \"port\" : 32130\n",
    "}\n",
    "\n",
    "msgbyte_CHANGE_PAINTABLE_MODEL_STREAM_STAT = SlicerUnityCommandEncoderFactory().getEncoder(SlicerUnityCommandType.CHANGE_PAINTABLE_MODEL_STREAM_STAT)(msg_CHANGE_PAINTABLE_MODEL_STREAM_STAT).getEncodedData()\n",
    "\n",
    "connServices.mainUnityController.RequireChange(SlicerUnityCommandType.CHANGE_PAINTABLE_MODEL_STREAM_STAT,msgbyte_CHANGE_PAINTABLE_MODEL_STREAM_STAT)"
   ]
  },
  {
   "cell_type": "code",
   "execution_count": null,
   "id": "31659e85",
   "metadata": {
    "collapsed": false,
    "jupyter": {
     "outputs_hidden": false
    }
   },
   "outputs": [],
   "source": [
    "syncer.Stop()"
   ]
  },
  {
   "cell_type": "code",
   "execution_count": null,
   "id": "8fa0d4d4",
   "metadata": {
    "collapsed": false,
    "jupyter": {
     "outputs_hidden": false
    }
   },
   "outputs": [],
   "source": [
    "syncer.Start()"
   ]
  },
  {
   "cell_type": "markdown",
   "id": "8559d8d5",
   "metadata": {},
   "source": [
    "### Volumes"
   ]
  },
  {
   "cell_type": "code",
   "execution_count": null,
   "id": "c4688090",
   "metadata": {
    "collapsed": false,
    "jupyter": {
     "outputs_hidden": false
    }
   },
   "outputs": [],
   "source": [
    "connServices.volumeDataSyncerList[\"T1VolumeData\"] = VolumeDataSenderMMAP(\"T1VolumeData\")"
   ]
  },
  {
   "cell_type": "code",
   "execution_count": null,
   "id": "535a5891",
   "metadata": {
    "collapsed": false,
    "jupyter": {
     "outputs_hidden": false
    }
   },
   "outputs": [],
   "source": [
    "connServices.volumeDataSyncerList[\"T1VolumeData\"].StreamVolume(\n",
    "    slicer.util.getNode('xx')\n",
    ")"
   ]
  },
  {
   "cell_type": "code",
   "execution_count": null,
   "id": "f16286c6",
   "metadata": {
    "collapsed": false,
    "jupyter": {
     "outputs_hidden": false
    }
   },
   "outputs": [],
   "source": [
    "msg_REFRESH_VOLUME_DATA = {\n",
    "    \"metaDataLocate\" : \"T1VolumeData\",\n",
    "    \"transform\" : np.diag([1.,1.,1.,1.]),\n",
    "    \"scale\" : np.array([1,1,1],dtype=\"float32\"),\n",
    "    \"attachTool\" : -1\n",
    "}\n",
    "\n",
    "msgbyte_REFRESH_VOLUME_DATA = SlicerUnityCommandEncoderFactory().getEncoder(SlicerUnityCommandType.REFRESH_VOLUME_DATA)(msg_REFRESH_VOLUME_DATA).getEncodedData()\n",
    "\n",
    "connServices.mainUnityController.RequireChange(SlicerUnityCommandType.REFRESH_VOLUME_DATA,msgbyte_REFRESH_VOLUME_DATA)"
   ]
  },
  {
   "cell_type": "code",
   "execution_count": null,
   "id": "4dea83ac",
   "metadata": {
    "collapsed": false,
    "jupyter": {
     "outputs_hidden": false
    }
   },
   "outputs": [],
   "source": [
    "from LibSlicerUnityConnection.VolumeDataSenderMMAP import *"
   ]
  },
  {
   "cell_type": "code",
   "execution_count": null,
   "id": "776f3836",
   "metadata": {
    "collapsed": false,
    "jupyter": {
     "outputs_hidden": false
    }
   },
   "outputs": [],
   "source": [
    "### RGB volume\n",
    "rgbVol = VolumeDataSenderMMAP(\"rawFemale_r\", mainVolumeType = MainVolumeType.RGB)"
   ]
  },
  {
   "cell_type": "code",
   "execution_count": null,
   "id": "c5617f17",
   "metadata": {
    "collapsed": false,
    "jupyter": {
     "outputs_hidden": false
    }
   },
   "outputs": [],
   "source": [
    "rgbVol.StreamVolumeRGB(\n",
    "    slicer.util.getNode('rawFemale_b'),\n",
    "    slicer.util.getNode('rawFemale_g'),\n",
    "    slicer.util.getNode('rawFemale_r')\n",
    ")"
   ]
  },
  {
   "cell_type": "code",
   "execution_count": null,
   "id": "1146f55f",
   "metadata": {
    "collapsed": false,
    "jupyter": {
     "outputs_hidden": false
    }
   },
   "outputs": [],
   "source": [
    "msg_REFRESH_VOLUME_DATA = {\n",
    "    \"metaDataLocate\" : \"rawFemale_r\",\n",
    "    \"transform\" : np.diag([1.,1.,1.,1.]),\n",
    "    \"scale\" : np.array([1,1,1],dtype=\"float32\"),\n",
    "    \"attachTool\" : -1\n",
    "}\n",
    "\n",
    "msgbyte_REFRESH_VOLUME_DATA = SlicerUnityCommandEncoderFactory().getEncoder(SlicerUnityCommandType.REFRESH_VOLUME_DATA)(msg_REFRESH_VOLUME_DATA).getEncodedData()\n",
    "\n",
    "connServices.mainUnityController.RequireChange(SlicerUnityCommandType.REFRESH_VOLUME_DATA,msgbyte_REFRESH_VOLUME_DATA)"
   ]
  },
  {
   "cell_type": "code",
   "execution_count": null,
   "id": "3c6a44e4",
   "metadata": {
    "collapsed": false,
    "jupyter": {
     "outputs_hidden": false
    }
   },
   "outputs": [],
   "source": [
    "msg_CHANGE_VOLUME_CUTOFF_BOX_NUM = {\n",
    "    \"metaDataLocate\" : \"females\",\n",
    "    \"num\" : 1\n",
    "}\n",
    "\n",
    "msgbyte_CHANGE_VOLUME_CUTOFF_BOX_NUM = SlicerUnityCommandEncoderFactory().getEncoder(SlicerUnityCommandType.CHANGE_VOLUME_CUTOFF_BOX_NUM)(msg_CHANGE_VOLUME_CUTOFF_BOX_NUM).getEncodedData()\n",
    "\n",
    "connServices.mainUnityController.RequireChange(SlicerUnityCommandType.CHANGE_VOLUME_CUTOFF_BOX_NUM,msgbyte_CHANGE_VOLUME_CUTOFF_BOX_NUM)\n"
   ]
  },
  {
   "cell_type": "code",
   "execution_count": null,
   "id": "0cda9b80",
   "metadata": {
    "collapsed": false,
    "jupyter": {
     "outputs_hidden": false
    }
   },
   "outputs": [],
   "source": [
    "from LibSlicerUnityConnection.VolumeRenderController import *"
   ]
  },
  {
   "cell_type": "code",
   "execution_count": null,
   "id": "388baa25",
   "metadata": {
    "collapsed": false,
    "jupyter": {
     "outputs_hidden": false
    }
   },
   "outputs": [],
   "source": [
    "msg_UPDATE_VOLUME_RENDER_MODE = {\n",
    "    \"metaDataLocate\": \"females\",\n",
    "    \"mode\": VolumeRenderMode.DirectVolumeRendering\n",
    "}\n",
    "\n",
    "msgbyte_UPDATE_VOLUME_RENDER_MODE = SlicerUnityCommandEncoderFactory().getEncoder(SlicerUnityCommandType.UPDATE_VOLUME_RENDER_MODE)(msg_UPDATE_VOLUME_RENDER_MODE).getEncodedData()\n",
    "\n",
    "connServices.mainUnityController.RequireChange(SlicerUnityCommandType.UPDATE_VOLUME_RENDER_MODE,msgbyte_UPDATE_VOLUME_RENDER_MODE)"
   ]
  },
  {
   "cell_type": "code",
   "execution_count": null,
   "id": "ac96248a",
   "metadata": {
    "collapsed": false,
    "jupyter": {
     "outputs_hidden": false
    }
   },
   "outputs": [],
   "source": [
    "msg_CHANGE_VOLUME_PAINTABLE_STAT = {\n",
    "    \"metaDataLocate\" : \"T1VolumeData\",\n",
    "    \"stat\" : False\n",
    "}\n",
    "\n",
    "msgbyte_CHANGE_VOLUME_PAINTABLE_STAT = SlicerUnityCommandEncoderFactory().getEncoder(SlicerUnityCommandType.CHANGE_VOLUME_PAINTABLE_STAT)(msg_CHANGE_VOLUME_PAINTABLE_STAT).getEncodedData()\n",
    "\n",
    "connServices.mainUnityController.RequireChange(SlicerUnityCommandType.CHANGE_VOLUME_PAINTABLE_STAT,msgbyte_CHANGE_VOLUME_PAINTABLE_STAT)"
   ]
  },
  {
   "cell_type": "code",
   "execution_count": null,
   "id": "e7e05059",
   "metadata": {
    "collapsed": false,
    "jupyter": {
     "outputs_hidden": false
    }
   },
   "outputs": [],
   "source": [
    "msg_CHANGE_VOLUME_MASK_DISPLAY_STAT = {\n",
    "    \"metaDataLocate\" : \"T1VolumeData\",\n",
    "    \"stat\" : True\n",
    "}\n",
    "\n",
    "msgbyte_CHANGE_VOLUME_MASK_DISPLAY_STAT = SlicerUnityCommandEncoderFactory().getEncoder(SlicerUnityCommandType.CHANGE_VOLUME_MASK_DISPLAY_STAT)(msg_CHANGE_VOLUME_MASK_DISPLAY_STAT).getEncodedData()\n",
    "\n",
    "connServices.mainUnityController.RequireChange(SlicerUnityCommandType.CHANGE_VOLUME_MASK_DISPLAY_STAT,msgbyte_CHANGE_VOLUME_MASK_DISPLAY_STAT)"
   ]
  },
  {
   "cell_type": "code",
   "execution_count": null,
   "id": "757322cf",
   "metadata": {
    "collapsed": false,
    "jupyter": {
     "outputs_hidden": false
    }
   },
   "outputs": [],
   "source": [
    "msg_CHANGE_VOLUME_INTERACT_COLOR = {\n",
    "    \"metaDataLocate\" : \"T1VolumeData\",\n",
    "    \"colorId\" : 1\n",
    "}\n",
    "\n",
    "msgbyte_CHANGE_VOLUME_INTERACT_COLOR = SlicerUnityCommandEncoderFactory().getEncoder(SlicerUnityCommandType.CHANGE_VOLUME_INTERACT_COLOR)(msg_CHANGE_VOLUME_INTERACT_COLOR).getEncodedData()\n",
    "\n",
    "connServices.mainUnityController.RequireChange(SlicerUnityCommandType.CHANGE_VOLUME_INTERACT_COLOR,msgbyte_CHANGE_VOLUME_INTERACT_COLOR)"
   ]
  },
  {
   "cell_type": "code",
   "execution_count": null,
   "id": "725f7b86",
   "metadata": {
    "collapsed": false,
    "jupyter": {
     "outputs_hidden": false
    }
   },
   "outputs": [],
   "source": [
    "msg_FORCE_CLEAN_VOLUME_INTERACT_MASK = {\n",
    "    \"metaDataLocate\" : \"T1VolumeData\",\n",
    "}\n",
    "\n",
    "msgbyte_FORCE_CLEAN_VOLUME_INTERACT_MASK = SlicerUnityCommandEncoderFactory().getEncoder(SlicerUnityCommandType.FORCE_CLEAN_VOLUME_INTERACT_MASK)(msg_FORCE_CLEAN_VOLUME_INTERACT_MASK).getEncodedData()\n",
    "\n",
    "connServices.mainUnityController.RequireChange(SlicerUnityCommandType.FORCE_CLEAN_VOLUME_INTERACT_MASK,msgbyte_FORCE_CLEAN_VOLUME_INTERACT_MASK)"
   ]
  },
  {
   "cell_type": "code",
   "execution_count": null,
   "id": "b8ed931e-bbe9-4d42-ac0a-331b42ab8ad1",
   "metadata": {},
   "outputs": [],
   "source": [
    "msg_CHANGE_VOLUME_VISIBILITY = {\n",
    "    \"metaDataLocate\" : \"T1VolumeData\",\n",
    "    \"stat\" : True\n",
    "}\n",
    "\n",
    "msgbyte_CHANGE_VOLUME_VISIBILITY = SlicerUnityCommandEncoderFactory().getEncoder(SlicerUnityCommandType.CHANGE_VOLUME_VISIBILITY)(msg_CHANGE_VOLUME_VISIBILITY).getEncodedData()\n",
    "\n",
    "mainUnityController.RequireChange(SlicerUnityCommandType.CHANGE_VOLUME_VISIBILITY,msgbyte_CHANGE_VOLUME_VISIBILITY)"
   ]
  }
 ],
 "metadata": {
  "kernelspec": {
   "display_name": "Slicer 5.2",
   "language": "pythonX",
   "name": "slicer-5.2"
  },
  "language_info": {
   "file_extension": ".py",
   "mimetype": "text/x-python",
   "name": "python",
   "version": "3.9.10"
  }
 },
 "nbformat": 4,
 "nbformat_minor": 5
}
